{
 "cells": [
  {
   "cell_type": "markdown",
   "metadata": {},
   "source": [
    "# Projeto: Teste Técnico"
   ]
  },
  {
   "cell_type": "markdown",
   "metadata": {},
   "source": [
    "## Desafio\n",
    "\n",
    "Faça uma análise exploratória para avaliar a consistência dos dados e identifcar possíveis variáveis que impactam sua variável resposta.\n",
    "\n",
    "Para a realização deste teste você pode utilizar o software de sua preferência (Python ou R).\n",
    "\n",
    "Sua solução deverá ser entregue no formato Jupyter, por meio de um repositório Git. Inclua também um arquivo README.md no qual você deve cobrir as respostas para os 5 pontos abaixo.\n",
    "\n",
    "**a. Como foi a definição da sua estratégia de modelagem?**<br>\n",
    "**b. Como foi definida a função de custo utilizada?**<br>\n",
    "**c. Qual foi o critério utilizado na seleção do modelo final?**<br>\n",
    "**d. Qual foi o critério utilizado para validação do modelo? Por que escolheu utilizar esse método?**\n",
    "**e. Quais evidências você possui de que seu modelo é suficientemente bom?**\n",
    "\n",
    "\n",
    "## Sobre o dataset\n",
    "\n",
    "O dataset utilizado é uma extração de dados do `Airbnb Rio de Janeiro`, conforme \n",
    "[fonte](http://insideairbnb.com/get-the-data.html)."
   ]
  },
  {
   "cell_type": "code",
   "execution_count": 1,
   "metadata": {},
   "outputs": [
    {
     "name": "stderr",
     "output_type": "stream",
     "text": [
      "C:\\Users\\carlo\\anaconda3\\lib\\site-packages\\numpy\\_distributor_init.py:32: UserWarning: loaded more than 1 DLL from .libs:\n",
      "C:\\Users\\carlo\\anaconda3\\lib\\site-packages\\numpy\\.libs\\libopenblas.4SP5SUA7CBGXUEOC35YP2ASOICYYEQZZ.gfortran-win_amd64.dll\n",
      "C:\\Users\\carlo\\anaconda3\\lib\\site-packages\\numpy\\.libs\\libopenblas.PYQHXLVVQ7VESDPUVUADXEVJOBGHJPAY.gfortran-win_amd64.dll\n",
      "  stacklevel=1)\n"
     ]
    }
   ],
   "source": [
    "import pandas as pd\n",
    "import numpy as np\n",
    "import matplotlib.pyplot as plt\n",
    "import seaborn as sns\n",
    "%matplotlib inline\n",
    "\n",
    "from sklearn.model_selection import train_test_split\n",
    "from sklearn.linear_model import LinearRegression\n",
    "from sklearn.preprocessing import LabelEncoder\n",
    "from sklearn.impute import SimpleImputer\n",
    "from sklearn.metrics import mean_squared_error\n",
    "from sklearn.metrics import r2_score\n",
    "import xgboost as xgb\n",
    "from sklearn.impute import KNNImputer\n",
    "\n",
    "from sklearn.preprocessing import MinMaxScaler\n",
    "\n",
    "from sklearn.ensemble import RandomForestRegressor\n",
    "from sklearn.svm import SVR\n",
    "from lightgbm import LGBMRegressor\n",
    "from sklearn.linear_model import Ridge\n",
    "from sklearn.linear_model import Lasso\n",
    "\n",
    "from sklearn.model_selection import RandomizedSearchCV\n",
    "\n",
    "from pprint import pprint\n",
    "\n",
    "pd.set_option('display.max_columns', 100)"
   ]
  },
  {
   "cell_type": "code",
   "execution_count": 2,
   "metadata": {},
   "outputs": [],
   "source": [
    "# cols = ['id', 'name', 'host_id', 'host_name', 'neighbourhood_group', 'neighbourhood', 'latitude', 'longitude', 'room_type', \n",
    "#         'price', 'minimum_nights', 'number_of_reviews', 'last_review', 'reviews_per_month', 'calculated_host_listings_count', \n",
    "#         'availability_365']"
   ]
  },
  {
   "cell_type": "code",
   "execution_count": 3,
   "metadata": {
    "scrolled": true
   },
   "outputs": [
    {
     "data": {
      "text/html": [
       "<div>\n",
       "<style scoped>\n",
       "    .dataframe tbody tr th:only-of-type {\n",
       "        vertical-align: middle;\n",
       "    }\n",
       "\n",
       "    .dataframe tbody tr th {\n",
       "        vertical-align: top;\n",
       "    }\n",
       "\n",
       "    .dataframe thead th {\n",
       "        text-align: right;\n",
       "    }\n",
       "</style>\n",
       "<table border=\"1\" class=\"dataframe\">\n",
       "  <thead>\n",
       "    <tr style=\"text-align: right;\">\n",
       "      <th></th>\n",
       "      <th>name</th>\n",
       "      <th>host_id</th>\n",
       "      <th>host_name</th>\n",
       "      <th>neighbourhood</th>\n",
       "      <th>latitude</th>\n",
       "      <th>longitude</th>\n",
       "      <th>room_type</th>\n",
       "      <th>price</th>\n",
       "      <th>minimum_nights</th>\n",
       "      <th>number_of_reviews</th>\n",
       "      <th>last_review</th>\n",
       "      <th>reviews_per_month</th>\n",
       "      <th>calculated_host_listings_count</th>\n",
       "      <th>availability_365</th>\n",
       "    </tr>\n",
       "    <tr>\n",
       "      <th>id</th>\n",
       "      <th></th>\n",
       "      <th></th>\n",
       "      <th></th>\n",
       "      <th></th>\n",
       "      <th></th>\n",
       "      <th></th>\n",
       "      <th></th>\n",
       "      <th></th>\n",
       "      <th></th>\n",
       "      <th></th>\n",
       "      <th></th>\n",
       "      <th></th>\n",
       "      <th></th>\n",
       "      <th></th>\n",
       "    </tr>\n",
       "  </thead>\n",
       "  <tbody>\n",
       "    <tr>\n",
       "      <th>41198</th>\n",
       "      <td>Modern 2bed,Top end of Copacabana</td>\n",
       "      <td>178975</td>\n",
       "      <td>Nicky</td>\n",
       "      <td>Copacabana</td>\n",
       "      <td>-22.97962</td>\n",
       "      <td>-43.19230</td>\n",
       "      <td>Entire home/apt</td>\n",
       "      <td>484</td>\n",
       "      <td>3</td>\n",
       "      <td>18</td>\n",
       "      <td>2016-02-09</td>\n",
       "      <td>0.18</td>\n",
       "      <td>2</td>\n",
       "      <td>365</td>\n",
       "    </tr>\n",
       "    <tr>\n",
       "      <th>48901</th>\n",
       "      <td>Confortable 4BD 3.5BT Atlantic avenue</td>\n",
       "      <td>222884</td>\n",
       "      <td>Marcio</td>\n",
       "      <td>Copacabana</td>\n",
       "      <td>-22.96574</td>\n",
       "      <td>-43.17514</td>\n",
       "      <td>Entire home/apt</td>\n",
       "      <td>540</td>\n",
       "      <td>4</td>\n",
       "      <td>4</td>\n",
       "      <td>2020-03-08</td>\n",
       "      <td>0.06</td>\n",
       "      <td>2</td>\n",
       "      <td>1</td>\n",
       "    </tr>\n",
       "    <tr>\n",
       "      <th>64795</th>\n",
       "      <td>Ipanema amazing 3 BDRs apartment.</td>\n",
       "      <td>93005</td>\n",
       "      <td>Andrea</td>\n",
       "      <td>Ipanema</td>\n",
       "      <td>-22.98178</td>\n",
       "      <td>-43.20076</td>\n",
       "      <td>Entire home/apt</td>\n",
       "      <td>314</td>\n",
       "      <td>1</td>\n",
       "      <td>13</td>\n",
       "      <td>2021-02-06</td>\n",
       "      <td>0.11</td>\n",
       "      <td>1</td>\n",
       "      <td>361</td>\n",
       "    </tr>\n",
       "    <tr>\n",
       "      <th>66574</th>\n",
       "      <td>Beach apart in Rio (January/February 2020)</td>\n",
       "      <td>326301</td>\n",
       "      <td>Frederic</td>\n",
       "      <td>Flamengo</td>\n",
       "      <td>-22.92873</td>\n",
       "      <td>-43.17473</td>\n",
       "      <td>Entire home/apt</td>\n",
       "      <td>180</td>\n",
       "      <td>4</td>\n",
       "      <td>1</td>\n",
       "      <td>2016-08-24</td>\n",
       "      <td>0.02</td>\n",
       "      <td>1</td>\n",
       "      <td>356</td>\n",
       "    </tr>\n",
       "    <tr>\n",
       "      <th>80145</th>\n",
       "      <td>Stay in a small imperial castle !</td>\n",
       "      <td>432777</td>\n",
       "      <td>Andreas</td>\n",
       "      <td>Santa Teresa</td>\n",
       "      <td>-22.92519</td>\n",
       "      <td>-43.19118</td>\n",
       "      <td>Private room</td>\n",
       "      <td>109</td>\n",
       "      <td>2</td>\n",
       "      <td>14</td>\n",
       "      <td>2019-10-06</td>\n",
       "      <td>0.14</td>\n",
       "      <td>2</td>\n",
       "      <td>365</td>\n",
       "    </tr>\n",
       "  </tbody>\n",
       "</table>\n",
       "</div>"
      ],
      "text/plain": [
       "                                             name  host_id host_name  \\\n",
       "id                                                                     \n",
       "41198           Modern 2bed,Top end of Copacabana   178975     Nicky   \n",
       "48901       Confortable 4BD 3.5BT Atlantic avenue   222884    Marcio   \n",
       "64795           Ipanema amazing 3 BDRs apartment.    93005    Andrea   \n",
       "66574  Beach apart in Rio (January/February 2020)   326301  Frederic   \n",
       "80145           Stay in a small imperial castle !   432777   Andreas   \n",
       "\n",
       "      neighbourhood  latitude  longitude        room_type  price  \\\n",
       "id                                                                 \n",
       "41198    Copacabana -22.97962  -43.19230  Entire home/apt    484   \n",
       "48901    Copacabana -22.96574  -43.17514  Entire home/apt    540   \n",
       "64795       Ipanema -22.98178  -43.20076  Entire home/apt    314   \n",
       "66574      Flamengo -22.92873  -43.17473  Entire home/apt    180   \n",
       "80145  Santa Teresa -22.92519  -43.19118     Private room    109   \n",
       "\n",
       "       minimum_nights  number_of_reviews last_review  reviews_per_month  \\\n",
       "id                                                                        \n",
       "41198               3                 18  2016-02-09               0.18   \n",
       "48901               4                  4  2020-03-08               0.06   \n",
       "64795               1                 13  2021-02-06               0.11   \n",
       "66574               4                  1  2016-08-24               0.02   \n",
       "80145               2                 14  2019-10-06               0.14   \n",
       "\n",
       "       calculated_host_listings_count  availability_365  \n",
       "id                                                       \n",
       "41198                               2               365  \n",
       "48901                               2                 1  \n",
       "64795                               1               361  \n",
       "66574                               1               356  \n",
       "80145                               2               365  "
      ]
     },
     "execution_count": 3,
     "metadata": {},
     "output_type": "execute_result"
    }
   ],
   "source": [
    "# df = pd.read_csv(\"../dados/listings.csv.gz\", compression='gzip', names=cols)\n",
    "df = pd.read_csv(\"../dados/listings_new.csv\", index_col=\"id\")\n",
    "# df_neighb = pd.read_csv(\"../dados/neighbourhoods.csv\")\n",
    "# df_reviews = pd.read_csv(\"../dados/reviews.csv\")\n",
    "df.head()"
   ]
  },
  {
   "cell_type": "code",
   "execution_count": 4,
   "metadata": {},
   "outputs": [
    {
     "data": {
      "text/plain": [
       "(15334, 14)"
      ]
     },
     "execution_count": 4,
     "metadata": {},
     "output_type": "execute_result"
    }
   ],
   "source": [
    "df.shape"
   ]
  },
  {
   "cell_type": "markdown",
   "metadata": {},
   "source": [
    "## Machine Learning"
   ]
  },
  {
   "cell_type": "markdown",
   "metadata": {},
   "source": [
    "### Preparação dos dados"
   ]
  },
  {
   "cell_type": "code",
   "execution_count": 5,
   "metadata": {},
   "outputs": [],
   "source": [
    "seed = 1\n",
    "\n",
    "df_test = df.sample(frac=0.1, random_state=seed)\n",
    "\n",
    "df_train_val = df.drop(df_test.index.tolist())"
   ]
  },
  {
   "cell_type": "code",
   "execution_count": null,
   "metadata": {},
   "outputs": [],
   "source": []
  },
  {
   "cell_type": "code",
   "execution_count": 6,
   "metadata": {
    "scrolled": true
   },
   "outputs": [],
   "source": [
    "# feature_list = ['host_name', 'neighbourhood', 'room_type', 'minimum_nights', 'number_of_reviews', \n",
    "#                 'reviews_per_month', 'calculated_host_listings_count', 'availability_365']\n",
    "\n",
    "# feature_list = ['room_type', 'minimum_nights', 'number_of_reviews', \n",
    "#                 'reviews_per_month', 'calculated_host_listings_count', 'availability_365']\n",
    "\n",
    "feature_list = ['host_id', 'latitude', 'longitude', 'room_type', 'minimum_nights', 'number_of_reviews', \n",
    "                'reviews_per_month', 'calculated_host_listings_count', 'availability_365']"
   ]
  },
  {
   "cell_type": "code",
   "execution_count": 7,
   "metadata": {},
   "outputs": [],
   "source": [
    "X = df_train_val[feature_list]\n",
    "y = df_train_val.price"
   ]
  },
  {
   "cell_type": "code",
   "execution_count": 8,
   "metadata": {},
   "outputs": [
    {
     "data": {
      "text/html": [
       "<div>\n",
       "<style scoped>\n",
       "    .dataframe tbody tr th:only-of-type {\n",
       "        vertical-align: middle;\n",
       "    }\n",
       "\n",
       "    .dataframe tbody tr th {\n",
       "        vertical-align: top;\n",
       "    }\n",
       "\n",
       "    .dataframe thead th {\n",
       "        text-align: right;\n",
       "    }\n",
       "</style>\n",
       "<table border=\"1\" class=\"dataframe\">\n",
       "  <thead>\n",
       "    <tr style=\"text-align: right;\">\n",
       "      <th></th>\n",
       "      <th>room_type</th>\n",
       "      <th>minimum_nights</th>\n",
       "      <th>number_of_reviews</th>\n",
       "      <th>reviews_per_month</th>\n",
       "      <th>calculated_host_listings_count</th>\n",
       "      <th>availability_365</th>\n",
       "    </tr>\n",
       "    <tr>\n",
       "      <th>id</th>\n",
       "      <th></th>\n",
       "      <th></th>\n",
       "      <th></th>\n",
       "      <th></th>\n",
       "      <th></th>\n",
       "      <th></th>\n",
       "    </tr>\n",
       "  </thead>\n",
       "  <tbody>\n",
       "    <tr>\n",
       "      <th>41198</th>\n",
       "      <td>Entire home/apt</td>\n",
       "      <td>3</td>\n",
       "      <td>18</td>\n",
       "      <td>0.18</td>\n",
       "      <td>2</td>\n",
       "      <td>365</td>\n",
       "    </tr>\n",
       "    <tr>\n",
       "      <th>48901</th>\n",
       "      <td>Entire home/apt</td>\n",
       "      <td>4</td>\n",
       "      <td>4</td>\n",
       "      <td>0.06</td>\n",
       "      <td>2</td>\n",
       "      <td>1</td>\n",
       "    </tr>\n",
       "    <tr>\n",
       "      <th>64795</th>\n",
       "      <td>Entire home/apt</td>\n",
       "      <td>1</td>\n",
       "      <td>13</td>\n",
       "      <td>0.11</td>\n",
       "      <td>1</td>\n",
       "      <td>361</td>\n",
       "    </tr>\n",
       "    <tr>\n",
       "      <th>66574</th>\n",
       "      <td>Entire home/apt</td>\n",
       "      <td>4</td>\n",
       "      <td>1</td>\n",
       "      <td>0.02</td>\n",
       "      <td>1</td>\n",
       "      <td>356</td>\n",
       "    </tr>\n",
       "    <tr>\n",
       "      <th>80145</th>\n",
       "      <td>Private room</td>\n",
       "      <td>2</td>\n",
       "      <td>14</td>\n",
       "      <td>0.14</td>\n",
       "      <td>2</td>\n",
       "      <td>365</td>\n",
       "    </tr>\n",
       "    <tr>\n",
       "      <th>...</th>\n",
       "      <td>...</td>\n",
       "      <td>...</td>\n",
       "      <td>...</td>\n",
       "      <td>...</td>\n",
       "      <td>...</td>\n",
       "      <td>...</td>\n",
       "    </tr>\n",
       "    <tr>\n",
       "      <th>48261964</th>\n",
       "      <td>Private room</td>\n",
       "      <td>2</td>\n",
       "      <td>0</td>\n",
       "      <td>NaN</td>\n",
       "      <td>3</td>\n",
       "      <td>365</td>\n",
       "    </tr>\n",
       "    <tr>\n",
       "      <th>48264718</th>\n",
       "      <td>Private room</td>\n",
       "      <td>1</td>\n",
       "      <td>0</td>\n",
       "      <td>NaN</td>\n",
       "      <td>1</td>\n",
       "      <td>0</td>\n",
       "    </tr>\n",
       "    <tr>\n",
       "      <th>48269503</th>\n",
       "      <td>Private room</td>\n",
       "      <td>1</td>\n",
       "      <td>0</td>\n",
       "      <td>NaN</td>\n",
       "      <td>4</td>\n",
       "      <td>180</td>\n",
       "    </tr>\n",
       "    <tr>\n",
       "      <th>48269534</th>\n",
       "      <td>Entire home/apt</td>\n",
       "      <td>1</td>\n",
       "      <td>0</td>\n",
       "      <td>NaN</td>\n",
       "      <td>1</td>\n",
       "      <td>365</td>\n",
       "    </tr>\n",
       "    <tr>\n",
       "      <th>48270514</th>\n",
       "      <td>Entire home/apt</td>\n",
       "      <td>5</td>\n",
       "      <td>0</td>\n",
       "      <td>NaN</td>\n",
       "      <td>3</td>\n",
       "      <td>269</td>\n",
       "    </tr>\n",
       "  </tbody>\n",
       "</table>\n",
       "<p>13801 rows × 6 columns</p>\n",
       "</div>"
      ],
      "text/plain": [
       "                room_type  minimum_nights  number_of_reviews  \\\n",
       "id                                                             \n",
       "41198     Entire home/apt               3                 18   \n",
       "48901     Entire home/apt               4                  4   \n",
       "64795     Entire home/apt               1                 13   \n",
       "66574     Entire home/apt               4                  1   \n",
       "80145        Private room               2                 14   \n",
       "...                   ...             ...                ...   \n",
       "48261964     Private room               2                  0   \n",
       "48264718     Private room               1                  0   \n",
       "48269503     Private room               1                  0   \n",
       "48269534  Entire home/apt               1                  0   \n",
       "48270514  Entire home/apt               5                  0   \n",
       "\n",
       "          reviews_per_month  calculated_host_listings_count  availability_365  \n",
       "id                                                                             \n",
       "41198                  0.18                               2               365  \n",
       "48901                  0.06                               2                 1  \n",
       "64795                  0.11                               1               361  \n",
       "66574                  0.02                               1               356  \n",
       "80145                  0.14                               2               365  \n",
       "...                     ...                             ...               ...  \n",
       "48261964                NaN                               3               365  \n",
       "48264718                NaN                               1                 0  \n",
       "48269503                NaN                               4               180  \n",
       "48269534                NaN                               1               365  \n",
       "48270514                NaN                               3               269  \n",
       "\n",
       "[13801 rows x 6 columns]"
      ]
     },
     "execution_count": 8,
     "metadata": {},
     "output_type": "execute_result"
    }
   ],
   "source": [
    "X"
   ]
  },
  {
   "cell_type": "code",
   "execution_count": null,
   "metadata": {
    "scrolled": true
   },
   "outputs": [],
   "source": []
  },
  {
   "cell_type": "code",
   "execution_count": 9,
   "metadata": {},
   "outputs": [
    {
     "name": "stdout",
     "output_type": "stream",
     "text": [
      "(9660, 6) (4141, 6) (9660,) (4141,)\n"
     ]
    }
   ],
   "source": [
    "X_train, X_val, y_train, y_val = train_test_split(X, y, test_size=0.3, random_state=seed)\n",
    "print(X_train.shape, X_val.shape, y_train.shape, y_val.shape)"
   ]
  },
  {
   "cell_type": "markdown",
   "metadata": {},
   "source": [
    "### Tranformação dos dados"
   ]
  },
  {
   "cell_type": "code",
   "execution_count": 10,
   "metadata": {},
   "outputs": [],
   "source": [
    "X_train_enc = X_train.copy()\n",
    "X_val_enc = X_val.copy()"
   ]
  },
  {
   "cell_type": "code",
   "execution_count": 11,
   "metadata": {},
   "outputs": [
    {
     "data": {
      "text/html": [
       "<div>\n",
       "<style scoped>\n",
       "    .dataframe tbody tr th:only-of-type {\n",
       "        vertical-align: middle;\n",
       "    }\n",
       "\n",
       "    .dataframe tbody tr th {\n",
       "        vertical-align: top;\n",
       "    }\n",
       "\n",
       "    .dataframe thead th {\n",
       "        text-align: right;\n",
       "    }\n",
       "</style>\n",
       "<table border=\"1\" class=\"dataframe\">\n",
       "  <thead>\n",
       "    <tr style=\"text-align: right;\">\n",
       "      <th></th>\n",
       "      <th>room_type</th>\n",
       "      <th>minimum_nights</th>\n",
       "      <th>number_of_reviews</th>\n",
       "      <th>reviews_per_month</th>\n",
       "      <th>calculated_host_listings_count</th>\n",
       "      <th>availability_365</th>\n",
       "    </tr>\n",
       "    <tr>\n",
       "      <th>id</th>\n",
       "      <th></th>\n",
       "      <th></th>\n",
       "      <th></th>\n",
       "      <th></th>\n",
       "      <th></th>\n",
       "      <th></th>\n",
       "    </tr>\n",
       "  </thead>\n",
       "  <tbody>\n",
       "    <tr>\n",
       "      <th>9180935</th>\n",
       "      <td>Entire home/apt</td>\n",
       "      <td>4</td>\n",
       "      <td>2</td>\n",
       "      <td>0.03</td>\n",
       "      <td>1</td>\n",
       "      <td>0</td>\n",
       "    </tr>\n",
       "    <tr>\n",
       "      <th>30689125</th>\n",
       "      <td>Entire home/apt</td>\n",
       "      <td>3</td>\n",
       "      <td>7</td>\n",
       "      <td>0.27</td>\n",
       "      <td>1</td>\n",
       "      <td>75</td>\n",
       "    </tr>\n",
       "    <tr>\n",
       "      <th>48182314</th>\n",
       "      <td>Entire home/apt</td>\n",
       "      <td>3</td>\n",
       "      <td>0</td>\n",
       "      <td>NaN</td>\n",
       "      <td>1</td>\n",
       "      <td>192</td>\n",
       "    </tr>\n",
       "    <tr>\n",
       "      <th>40729776</th>\n",
       "      <td>Entire home/apt</td>\n",
       "      <td>1</td>\n",
       "      <td>13</td>\n",
       "      <td>0.91</td>\n",
       "      <td>1</td>\n",
       "      <td>318</td>\n",
       "    </tr>\n",
       "    <tr>\n",
       "      <th>41063816</th>\n",
       "      <td>Entire home/apt</td>\n",
       "      <td>5</td>\n",
       "      <td>0</td>\n",
       "      <td>NaN</td>\n",
       "      <td>1</td>\n",
       "      <td>180</td>\n",
       "    </tr>\n",
       "    <tr>\n",
       "      <th>...</th>\n",
       "      <td>...</td>\n",
       "      <td>...</td>\n",
       "      <td>...</td>\n",
       "      <td>...</td>\n",
       "      <td>...</td>\n",
       "      <td>...</td>\n",
       "    </tr>\n",
       "    <tr>\n",
       "      <th>2720205</th>\n",
       "      <td>Private room</td>\n",
       "      <td>4</td>\n",
       "      <td>10</td>\n",
       "      <td>0.12</td>\n",
       "      <td>4</td>\n",
       "      <td>268</td>\n",
       "    </tr>\n",
       "    <tr>\n",
       "      <th>17573393</th>\n",
       "      <td>Private room</td>\n",
       "      <td>3</td>\n",
       "      <td>0</td>\n",
       "      <td>NaN</td>\n",
       "      <td>3</td>\n",
       "      <td>365</td>\n",
       "    </tr>\n",
       "    <tr>\n",
       "      <th>45845257</th>\n",
       "      <td>Private room</td>\n",
       "      <td>2</td>\n",
       "      <td>0</td>\n",
       "      <td>NaN</td>\n",
       "      <td>4</td>\n",
       "      <td>180</td>\n",
       "    </tr>\n",
       "    <tr>\n",
       "      <th>906732</th>\n",
       "      <td>Private room</td>\n",
       "      <td>1</td>\n",
       "      <td>14</td>\n",
       "      <td>0.17</td>\n",
       "      <td>1</td>\n",
       "      <td>299</td>\n",
       "    </tr>\n",
       "    <tr>\n",
       "      <th>47727424</th>\n",
       "      <td>Private room</td>\n",
       "      <td>1</td>\n",
       "      <td>0</td>\n",
       "      <td>NaN</td>\n",
       "      <td>5</td>\n",
       "      <td>80</td>\n",
       "    </tr>\n",
       "  </tbody>\n",
       "</table>\n",
       "<p>9660 rows × 6 columns</p>\n",
       "</div>"
      ],
      "text/plain": [
       "                room_type  minimum_nights  number_of_reviews  \\\n",
       "id                                                             \n",
       "9180935   Entire home/apt               4                  2   \n",
       "30689125  Entire home/apt               3                  7   \n",
       "48182314  Entire home/apt               3                  0   \n",
       "40729776  Entire home/apt               1                 13   \n",
       "41063816  Entire home/apt               5                  0   \n",
       "...                   ...             ...                ...   \n",
       "2720205      Private room               4                 10   \n",
       "17573393     Private room               3                  0   \n",
       "45845257     Private room               2                  0   \n",
       "906732       Private room               1                 14   \n",
       "47727424     Private room               1                  0   \n",
       "\n",
       "          reviews_per_month  calculated_host_listings_count  availability_365  \n",
       "id                                                                             \n",
       "9180935                0.03                               1                 0  \n",
       "30689125               0.27                               1                75  \n",
       "48182314                NaN                               1               192  \n",
       "40729776               0.91                               1               318  \n",
       "41063816                NaN                               1               180  \n",
       "...                     ...                             ...               ...  \n",
       "2720205                0.12                               4               268  \n",
       "17573393                NaN                               3               365  \n",
       "45845257                NaN                               4               180  \n",
       "906732                 0.17                               1               299  \n",
       "47727424                NaN                               5                80  \n",
       "\n",
       "[9660 rows x 6 columns]"
      ]
     },
     "execution_count": 11,
     "metadata": {},
     "output_type": "execute_result"
    }
   ],
   "source": [
    "X_train_enc"
   ]
  },
  {
   "cell_type": "code",
   "execution_count": null,
   "metadata": {},
   "outputs": [],
   "source": [
    "# X_train['neighbourhood'] = X_train.neighbourhood.astype('category')"
   ]
  },
  {
   "cell_type": "code",
   "execution_count": 12,
   "metadata": {},
   "outputs": [],
   "source": [
    "def LabelEncoderFunc(train, val, col):\n",
    "    \n",
    "#     train[col] = train[col].astype(str)\n",
    "#     val[col] = val[col].astype(str)\n",
    "    \n",
    "#     le = LabelEncoder()\n",
    "#     le.fit(train[col])\n",
    "    \n",
    "#     le_dict = dict(zip(le.classes_, le.transform(le.classes_)))\n",
    "    \n",
    "#     le_dict.get(-1, '<Unknown>')\n",
    "\n",
    "# #     train[col] = le.transform(train[col])\n",
    "# #     val[col] = le.transform(val[col])\n",
    "\n",
    "#     train[col] = train[col].apply(lambda x: le_dict.get(x, <unknown_value>))\n",
    "#     val[col] = val[col].apply(lambda x: le_dict.get(x, <unknown_value>))\n",
    "    \n",
    "#     return train[col], val[col]\n",
    "\n",
    "    le = LabelEncoder()\n",
    "    le.fit(train[col])\n",
    "\n",
    "    train[col] = le.transform(train[col])\n",
    "    val[col] = le.transform(val[col])\n",
    "\n",
    "    return train[col], val[col]"
   ]
  },
  {
   "cell_type": "code",
   "execution_count": null,
   "metadata": {},
   "outputs": [],
   "source": [
    "# X_train_enc['host_name'] = X_train_enc['host_name'].str.replace('&','')\n",
    "# X_train_enc['host_name'] = X_train_enc['host_name'].str.replace('/','')\n",
    "# X_train_enc['host_name'] = X_train_enc['host_name'].str.replace('  ',' ')\n",
    "# X_train_enc['host_name'] = X_train_enc['host_name'].str.replace(' ','_')"
   ]
  },
  {
   "cell_type": "code",
   "execution_count": null,
   "metadata": {},
   "outputs": [],
   "source": []
  },
  {
   "cell_type": "code",
   "execution_count": 13,
   "metadata": {},
   "outputs": [],
   "source": [
    "# X_train_enc['host_name'], X_val_enc['host_name'] = LabelEncoderFunc(X_train_enc, X_val_enc, 'host_name')\n",
    "# X_train_enc['neighbourhood'], X_val_enc['neighbourhood'] = LabelEncoderFunc(X_train_enc, X_val_enc, 'neighbourhood')\n",
    "X_train_enc['room_type'], X_val_enc['room_type'] = LabelEncoderFunc(X_train_enc, X_val_enc, 'room_type')"
   ]
  },
  {
   "cell_type": "code",
   "execution_count": null,
   "metadata": {},
   "outputs": [],
   "source": []
  },
  {
   "cell_type": "code",
   "execution_count": null,
   "metadata": {},
   "outputs": [],
   "source": [
    "# # X_train.room_type\n",
    "# le = LabelEncoder()\n",
    "# le.fit(X_train['room_type'])\n",
    "\n",
    "# X_train_enc['room_type'] = le.transform(X_train['room_type'])\n",
    "# X_val_enc['room_type'] = le.transform(X_val['room_type'])"
   ]
  },
  {
   "cell_type": "code",
   "execution_count": 14,
   "metadata": {},
   "outputs": [],
   "source": [
    "X_train_enc['reviews_per_month'] = X_train_enc['reviews_per_month'].fillna(X_train_enc.reviews_per_month.mean())\n",
    "X_val_enc['reviews_per_month'] = X_val_enc['reviews_per_month'].fillna(X_train_enc.reviews_per_month.mean())"
   ]
  },
  {
   "cell_type": "code",
   "execution_count": 15,
   "metadata": {},
   "outputs": [],
   "source": [
    "scaler = MinMaxScaler()\n",
    "\n",
    "def MinMaxFunc(train, val, col):\n",
    "\n",
    "    scaler = MinMaxScaler()\n",
    "    scaler.fit(train[[col]])\n",
    "\n",
    "    train[col] = scaler.transform(train[[col]])\n",
    "    val[col] = scaler.transform(val[[col]])\n",
    "\n",
    "    return train[col], val[col]"
   ]
  },
  {
   "cell_type": "code",
   "execution_count": 16,
   "metadata": {},
   "outputs": [],
   "source": [
    "# X_train_enc['minimum_nights', 'number_of_reviews', 'reviews_per_month', \n",
    "#             'calculated_host_listings_count', 'availability_365']\n",
    "\n",
    "X_train_enc['minimum_nights'], X_val_enc['minimum_nights'] = MinMaxFunc(X_train_enc, X_val_enc, 'minimum_nights')\n",
    "X_train_enc['number_of_reviews'], X_val_enc['number_of_reviews'] = MinMaxFunc(X_train_enc, X_val_enc, 'number_of_reviews')\n",
    "X_train_enc['reviews_per_month'], X_val_enc['reviews_per_month'] = MinMaxFunc(X_train_enc, X_val_enc, 'reviews_per_month')\n",
    "X_train_enc['calculated_host_listings_count'], X_val_enc['calculated_host_listings_count'] = MinMaxFunc(X_train_enc, X_val_enc, 'calculated_host_listings_count')\n",
    "X_train_enc['availability_365'], X_val_enc['availability_365'] = MinMaxFunc(X_train_enc, X_val_enc, 'availability_365')"
   ]
  },
  {
   "cell_type": "code",
   "execution_count": null,
   "metadata": {},
   "outputs": [],
   "source": []
  },
  {
   "cell_type": "markdown",
   "metadata": {},
   "source": [
    "### 1º Tunning do modelo selecionado"
   ]
  },
  {
   "cell_type": "code",
   "execution_count": 18,
   "metadata": {},
   "outputs": [
    {
     "name": "stdout",
     "output_type": "stream",
     "text": [
      "{'bootstrap': [True, False],\n",
      " 'max_depth': [10, 20, 30, 40, 50, 60, 70, 80, 90, 100, 110, None],\n",
      " 'max_features': ['auto', 'sqrt'],\n",
      " 'min_samples_leaf': [1, 2, 4],\n",
      " 'min_samples_split': [2, 5, 10],\n",
      " 'n_estimators': [200, 400, 600, 800, 1000, 1200, 1400, 1600, 1800, 2000]}\n"
     ]
    }
   ],
   "source": [
    "# Number of trees in random forest\n",
    "n_estimators = [int(x) for x in np.linspace(start = 200, stop = 2000, num = 10)]\n",
    "\n",
    "# Number of features to consider at every split\n",
    "max_features = ['auto', 'sqrt']\n",
    "\n",
    "# Maximum number of levels in tree\n",
    "max_depth = [int(x) for x in np.linspace(10, 110, num = 11)]\n",
    "max_depth.append(None)\n",
    "\n",
    "# Minimum number of samples required to split a node\n",
    "min_samples_split = [2, 5, 10]\n",
    "\n",
    "# Minimum number of samples required at each leaf node\n",
    "min_samples_leaf = [1, 2, 4]\n",
    "\n",
    "# Method of selecting samples for training each tree\n",
    "bootstrap = [True, False]\n",
    "\n",
    "# Create the random grid\n",
    "random_grid = {'n_estimators': n_estimators,\n",
    "               'max_features': max_features,\n",
    "               'max_depth': max_depth,\n",
    "               'min_samples_split': min_samples_split,\n",
    "               'min_samples_leaf': min_samples_leaf,\n",
    "               'bootstrap': bootstrap}\n",
    "\n",
    "pprint(random_grid)"
   ]
  },
  {
   "cell_type": "code",
   "execution_count": 19,
   "metadata": {},
   "outputs": [
    {
     "name": "stdout",
     "output_type": "stream",
     "text": [
      "Fitting 3 folds for each of 100 candidates, totalling 300 fits\n"
     ]
    },
    {
     "name": "stderr",
     "output_type": "stream",
     "text": [
      "[Parallel(n_jobs=-1)]: Using backend LokyBackend with 8 concurrent workers.\n",
      "[Parallel(n_jobs=-1)]: Done  25 tasks      | elapsed:  1.4min\n",
      "[Parallel(n_jobs=-1)]: Done 146 tasks      | elapsed:  7.9min\n",
      "[Parallel(n_jobs=-1)]: Done 300 out of 300 | elapsed: 16.9min finished\n"
     ]
    },
    {
     "data": {
      "text/plain": [
       "RandomizedSearchCV(cv=3, estimator=RandomForestRegressor(), n_iter=100,\n",
       "                   n_jobs=-1,\n",
       "                   param_distributions={'bootstrap': [True, False],\n",
       "                                        'max_depth': [10, 20, 30, 40, 50, 60,\n",
       "                                                      70, 80, 90, 100, 110,\n",
       "                                                      None],\n",
       "                                        'max_features': ['auto', 'sqrt'],\n",
       "                                        'min_samples_leaf': [1, 2, 4],\n",
       "                                        'min_samples_split': [2, 5, 10],\n",
       "                                        'n_estimators': [200, 400, 600, 800,\n",
       "                                                         1000, 1200, 1400, 1600,\n",
       "                                                         1800, 2000]},\n",
       "                   random_state=1, verbose=2)"
      ]
     },
     "execution_count": 19,
     "metadata": {},
     "output_type": "execute_result"
    }
   ],
   "source": [
    "# Use the random grid to search for best hyperparameters\n",
    "# First create the base model to tune\n",
    "rf = RandomForestRegressor()\n",
    "\n",
    "# Random search of parameters, using 3 fold cross validation, \n",
    "# search across 100 different combinations, and use all available cores\n",
    "rf_random = RandomizedSearchCV(estimator = rf, param_distributions = random_grid, n_iter = 100, cv = 3, verbose=2, random_state=seed, n_jobs = -1)\n",
    "\n",
    "# Fit the random search model\n",
    "rf_random.fit(X_train_enc, y_train)"
   ]
  },
  {
   "cell_type": "code",
   "execution_count": 20,
   "metadata": {},
   "outputs": [
    {
     "data": {
      "text/plain": [
       "{'n_estimators': 1400,\n",
       " 'min_samples_split': 5,\n",
       " 'min_samples_leaf': 2,\n",
       " 'max_features': 'sqrt',\n",
       " 'max_depth': 10,\n",
       " 'bootstrap': True}"
      ]
     },
     "execution_count": 20,
     "metadata": {},
     "output_type": "execute_result"
    }
   ],
   "source": [
    "rf_random.best_params_"
   ]
  },
  {
   "cell_type": "code",
   "execution_count": 21,
   "metadata": {},
   "outputs": [],
   "source": [
    "best_random  = rf_random.best_estimator_"
   ]
  },
  {
   "cell_type": "code",
   "execution_count": 22,
   "metadata": {},
   "outputs": [
    {
     "data": {
      "text/plain": [
       "RandomForestRegressor(max_depth=10, max_features='sqrt', min_samples_leaf=2,\n",
       "                      min_samples_split=5, n_estimators=1400)"
      ]
     },
     "execution_count": 22,
     "metadata": {},
     "output_type": "execute_result"
    }
   ],
   "source": [
    "best_random.fit(X_train_enc, y_train)"
   ]
  },
  {
   "cell_type": "code",
   "execution_count": 23,
   "metadata": {},
   "outputs": [
    {
     "name": "stdout",
     "output_type": "stream",
     "text": [
      "Previsão nos dados de treino:\n",
      "-----------------------------------------------------\n",
      "Mean Squared Error: 41121.97867893026\n",
      "R2 score: 0.3354544391127825\n",
      "\n",
      "Previsão nos dados de Validação:\n",
      "-----------------------------------------------------\n",
      "Mean Squared Error: 47658.31664913045\n",
      "R2 score: 0.21574157567021834\n"
     ]
    }
   ],
   "source": [
    "y_pred_train = best_random.predict(X_train_enc)\n",
    "y_pred_val = best_random.predict(X_val_enc)\n",
    "\n",
    "print(f'Previsão nos dados de treino:')\n",
    "print('-----------------------------------------------------')\n",
    "print(f'Mean Squared Error: {mean_squared_error(y_train, y_pred_train)}')\n",
    "print(f'R2 score: {r2_score(y_train, y_pred_train)}\\n')\n",
    "\n",
    "print(f'Previsão nos dados de Validação:')\n",
    "print('-----------------------------------------------------')\n",
    "print(f'Mean Squared Error: {mean_squared_error(y_val, y_pred_val)}')\n",
    "print(f'R2 score: {r2_score(y_val, y_pred_val)}')"
   ]
  },
  {
   "cell_type": "code",
   "execution_count": 24,
   "metadata": {},
   "outputs": [
    {
     "data": {
      "text/plain": [
       "<AxesSubplot:xlabel='price'>"
      ]
     },
     "execution_count": 24,
     "metadata": {},
     "output_type": "execute_result"
    },
    {
     "data": {
      "image/png": "[encoded data removed]",
      "text/plain": [
       "<Figure size 432x288 with 1 Axes>"
      ]
     },
     "metadata": {
      "needs_background": "light"
     },
     "output_type": "display_data"
    }
   ],
   "source": [
    "sns.regplot(x=y_val, y=y_pred_val)"
   ]
  },
  {
   "cell_type": "markdown",
   "metadata": {},
   "source": [
    "### 2º Tunning do modelo selecionado"
   ]
  },
  {
   "cell_type": "code",
   "execution_count": 25,
   "metadata": {},
   "outputs": [],
   "source": [
    "room_type_dummies_train = X_train.room_type.str.get_dummies()\n",
    "room_type_dummies_valid = X_val.room_type.str.get_dummies()\n",
    "\n",
    "X_train_enc2 = pd.concat([X_train, room_type_dummies_train], axis=1)\n",
    "X_val_enc2 = pd.concat([X_val, room_type_dummies_valid], axis=1)"
   ]
  },
  {
   "cell_type": "code",
   "execution_count": 26,
   "metadata": {},
   "outputs": [],
   "source": [
    "X_train_enc2.drop(['room_type'], axis=1, inplace=True)\n",
    "X_val_enc2.drop(['room_type'], axis=1, inplace=True)"
   ]
  },
  {
   "cell_type": "code",
   "execution_count": 27,
   "metadata": {},
   "outputs": [],
   "source": [
    "inputer = KNNImputer(n_neighbors=5)\n",
    "# inputer.fit_transform(X_train_enc2.reviews_per_month.values.reshape(1,-1))\n",
    "# X_val_enc2['reviews_per_month'] = inputer.fit_transform(X_val_enc2.reviews_per_month.values.reshape(1,-1))\n",
    "\n",
    "X_train_enc2 = pd.DataFrame(inputer.fit_transform(X_train_enc2), columns=X_train_enc2.columns)\n",
    "X_val_enc2 = pd.DataFrame(inputer.fit_transform(X_val_enc2), columns=X_val_enc2.columns)"
   ]
  },
  {
   "cell_type": "code",
   "execution_count": 28,
   "metadata": {},
   "outputs": [
    {
     "data": {
      "text/html": [
       "<div>\n",
       "<style scoped>\n",
       "    .dataframe tbody tr th:only-of-type {\n",
       "        vertical-align: middle;\n",
       "    }\n",
       "\n",
       "    .dataframe tbody tr th {\n",
       "        vertical-align: top;\n",
       "    }\n",
       "\n",
       "    .dataframe thead th {\n",
       "        text-align: right;\n",
       "    }\n",
       "</style>\n",
       "<table border=\"1\" class=\"dataframe\">\n",
       "  <thead>\n",
       "    <tr style=\"text-align: right;\">\n",
       "      <th></th>\n",
       "      <th>minimum_nights</th>\n",
       "      <th>number_of_reviews</th>\n",
       "      <th>reviews_per_month</th>\n",
       "      <th>calculated_host_listings_count</th>\n",
       "      <th>availability_365</th>\n",
       "      <th>Entire home/apt</th>\n",
       "      <th>Hotel room</th>\n",
       "      <th>Private room</th>\n",
       "      <th>Shared room</th>\n",
       "    </tr>\n",
       "  </thead>\n",
       "  <tbody>\n",
       "    <tr>\n",
       "      <th>0</th>\n",
       "      <td>4.0</td>\n",
       "      <td>2.0</td>\n",
       "      <td>0.030</td>\n",
       "      <td>1.0</td>\n",
       "      <td>0.0</td>\n",
       "      <td>1.0</td>\n",
       "      <td>0.0</td>\n",
       "      <td>0.0</td>\n",
       "      <td>0.0</td>\n",
       "    </tr>\n",
       "    <tr>\n",
       "      <th>1</th>\n",
       "      <td>3.0</td>\n",
       "      <td>7.0</td>\n",
       "      <td>0.270</td>\n",
       "      <td>1.0</td>\n",
       "      <td>75.0</td>\n",
       "      <td>1.0</td>\n",
       "      <td>0.0</td>\n",
       "      <td>0.0</td>\n",
       "      <td>0.0</td>\n",
       "    </tr>\n",
       "    <tr>\n",
       "      <th>2</th>\n",
       "      <td>3.0</td>\n",
       "      <td>0.0</td>\n",
       "      <td>0.238</td>\n",
       "      <td>1.0</td>\n",
       "      <td>192.0</td>\n",
       "      <td>1.0</td>\n",
       "      <td>0.0</td>\n",
       "      <td>0.0</td>\n",
       "      <td>0.0</td>\n",
       "    </tr>\n",
       "    <tr>\n",
       "      <th>3</th>\n",
       "      <td>1.0</td>\n",
       "      <td>13.0</td>\n",
       "      <td>0.910</td>\n",
       "      <td>1.0</td>\n",
       "      <td>318.0</td>\n",
       "      <td>1.0</td>\n",
       "      <td>0.0</td>\n",
       "      <td>0.0</td>\n",
       "      <td>0.0</td>\n",
       "    </tr>\n",
       "    <tr>\n",
       "      <th>4</th>\n",
       "      <td>5.0</td>\n",
       "      <td>0.0</td>\n",
       "      <td>0.060</td>\n",
       "      <td>1.0</td>\n",
       "      <td>180.0</td>\n",
       "      <td>1.0</td>\n",
       "      <td>0.0</td>\n",
       "      <td>0.0</td>\n",
       "      <td>0.0</td>\n",
       "    </tr>\n",
       "    <tr>\n",
       "      <th>...</th>\n",
       "      <td>...</td>\n",
       "      <td>...</td>\n",
       "      <td>...</td>\n",
       "      <td>...</td>\n",
       "      <td>...</td>\n",
       "      <td>...</td>\n",
       "      <td>...</td>\n",
       "      <td>...</td>\n",
       "      <td>...</td>\n",
       "    </tr>\n",
       "    <tr>\n",
       "      <th>9655</th>\n",
       "      <td>4.0</td>\n",
       "      <td>10.0</td>\n",
       "      <td>0.120</td>\n",
       "      <td>4.0</td>\n",
       "      <td>268.0</td>\n",
       "      <td>0.0</td>\n",
       "      <td>0.0</td>\n",
       "      <td>1.0</td>\n",
       "      <td>0.0</td>\n",
       "    </tr>\n",
       "    <tr>\n",
       "      <th>9656</th>\n",
       "      <td>3.0</td>\n",
       "      <td>0.0</td>\n",
       "      <td>0.038</td>\n",
       "      <td>3.0</td>\n",
       "      <td>365.0</td>\n",
       "      <td>0.0</td>\n",
       "      <td>0.0</td>\n",
       "      <td>1.0</td>\n",
       "      <td>0.0</td>\n",
       "    </tr>\n",
       "    <tr>\n",
       "      <th>9657</th>\n",
       "      <td>2.0</td>\n",
       "      <td>0.0</td>\n",
       "      <td>0.316</td>\n",
       "      <td>4.0</td>\n",
       "      <td>180.0</td>\n",
       "      <td>0.0</td>\n",
       "      <td>0.0</td>\n",
       "      <td>1.0</td>\n",
       "      <td>0.0</td>\n",
       "    </tr>\n",
       "    <tr>\n",
       "      <th>9658</th>\n",
       "      <td>1.0</td>\n",
       "      <td>14.0</td>\n",
       "      <td>0.170</td>\n",
       "      <td>1.0</td>\n",
       "      <td>299.0</td>\n",
       "      <td>0.0</td>\n",
       "      <td>0.0</td>\n",
       "      <td>1.0</td>\n",
       "      <td>0.0</td>\n",
       "    </tr>\n",
       "    <tr>\n",
       "      <th>9659</th>\n",
       "      <td>1.0</td>\n",
       "      <td>0.0</td>\n",
       "      <td>0.202</td>\n",
       "      <td>5.0</td>\n",
       "      <td>80.0</td>\n",
       "      <td>0.0</td>\n",
       "      <td>0.0</td>\n",
       "      <td>1.0</td>\n",
       "      <td>0.0</td>\n",
       "    </tr>\n",
       "  </tbody>\n",
       "</table>\n",
       "<p>9660 rows × 9 columns</p>\n",
       "</div>"
      ],
      "text/plain": [
       "      minimum_nights  number_of_reviews  reviews_per_month  \\\n",
       "0                4.0                2.0              0.030   \n",
       "1                3.0                7.0              0.270   \n",
       "2                3.0                0.0              0.238   \n",
       "3                1.0               13.0              0.910   \n",
       "4                5.0                0.0              0.060   \n",
       "...              ...                ...                ...   \n",
       "9655             4.0               10.0              0.120   \n",
       "9656             3.0                0.0              0.038   \n",
       "9657             2.0                0.0              0.316   \n",
       "9658             1.0               14.0              0.170   \n",
       "9659             1.0                0.0              0.202   \n",
       "\n",
       "      calculated_host_listings_count  availability_365  Entire home/apt  \\\n",
       "0                                1.0               0.0              1.0   \n",
       "1                                1.0              75.0              1.0   \n",
       "2                                1.0             192.0              1.0   \n",
       "3                                1.0             318.0              1.0   \n",
       "4                                1.0             180.0              1.0   \n",
       "...                              ...               ...              ...   \n",
       "9655                             4.0             268.0              0.0   \n",
       "9656                             3.0             365.0              0.0   \n",
       "9657                             4.0             180.0              0.0   \n",
       "9658                             1.0             299.0              0.0   \n",
       "9659                             5.0              80.0              0.0   \n",
       "\n",
       "      Hotel room  Private room  Shared room  \n",
       "0            0.0           0.0          0.0  \n",
       "1            0.0           0.0          0.0  \n",
       "2            0.0           0.0          0.0  \n",
       "3            0.0           0.0          0.0  \n",
       "4            0.0           0.0          0.0  \n",
       "...          ...           ...          ...  \n",
       "9655         0.0           1.0          0.0  \n",
       "9656         0.0           1.0          0.0  \n",
       "9657         0.0           1.0          0.0  \n",
       "9658         0.0           1.0          0.0  \n",
       "9659         0.0           1.0          0.0  \n",
       "\n",
       "[9660 rows x 9 columns]"
      ]
     },
     "execution_count": 28,
     "metadata": {},
     "output_type": "execute_result"
    }
   ],
   "source": [
    "X_train_enc2"
   ]
  },
  {
   "cell_type": "code",
   "execution_count": 31,
   "metadata": {},
   "outputs": [],
   "source": [
    "X_train_enc2['minimum_nights'], X_val_enc2['minimum_nights'] = MinMaxFunc(X_train_enc2, X_val_enc2, 'minimum_nights')\n",
    "X_train_enc2['number_of_reviews'], X_val_enc2['number_of_reviews'] = MinMaxFunc(X_train_enc2, X_val_enc2, 'number_of_reviews')\n",
    "X_train_enc2['reviews_per_month'], X_val_enc2['reviews_per_month'] = MinMaxFunc(X_train_enc2, X_val_enc2, 'reviews_per_month')\n",
    "X_train_enc2['calculated_host_listings_count'], X_val_enc2['calculated_host_listings_count'] = MinMaxFunc(X_train_enc2, X_val_enc2, 'calculated_host_listings_count')\n",
    "X_train_enc2['availability_365'], X_val_enc2['availability_365'] = MinMaxFunc(X_train_enc2, X_val_enc2, 'availability_365')"
   ]
  },
  {
   "cell_type": "code",
   "execution_count": 35,
   "metadata": {},
   "outputs": [
    {
     "data": {
      "text/html": [
       "<div>\n",
       "<style scoped>\n",
       "    .dataframe tbody tr th:only-of-type {\n",
       "        vertical-align: middle;\n",
       "    }\n",
       "\n",
       "    .dataframe tbody tr th {\n",
       "        vertical-align: top;\n",
       "    }\n",
       "\n",
       "    .dataframe thead th {\n",
       "        text-align: right;\n",
       "    }\n",
       "</style>\n",
       "<table border=\"1\" class=\"dataframe\">\n",
       "  <thead>\n",
       "    <tr style=\"text-align: right;\">\n",
       "      <th></th>\n",
       "      <th>minimum_nights</th>\n",
       "      <th>number_of_reviews</th>\n",
       "      <th>reviews_per_month</th>\n",
       "      <th>calculated_host_listings_count</th>\n",
       "      <th>availability_365</th>\n",
       "      <th>Entire home/apt</th>\n",
       "      <th>Hotel room</th>\n",
       "      <th>Private room</th>\n",
       "      <th>Shared room</th>\n",
       "    </tr>\n",
       "  </thead>\n",
       "  <tbody>\n",
       "    <tr>\n",
       "      <th>0</th>\n",
       "      <td>0.428571</td>\n",
       "      <td>0.090909</td>\n",
       "      <td>0.010101</td>\n",
       "      <td>0.0</td>\n",
       "      <td>0.000000</td>\n",
       "      <td>1.0</td>\n",
       "      <td>0.0</td>\n",
       "      <td>0.0</td>\n",
       "      <td>0.0</td>\n",
       "    </tr>\n",
       "    <tr>\n",
       "      <th>1</th>\n",
       "      <td>0.285714</td>\n",
       "      <td>0.318182</td>\n",
       "      <td>0.131313</td>\n",
       "      <td>0.0</td>\n",
       "      <td>0.205479</td>\n",
       "      <td>1.0</td>\n",
       "      <td>0.0</td>\n",
       "      <td>0.0</td>\n",
       "      <td>0.0</td>\n",
       "    </tr>\n",
       "    <tr>\n",
       "      <th>2</th>\n",
       "      <td>0.285714</td>\n",
       "      <td>0.000000</td>\n",
       "      <td>0.115152</td>\n",
       "      <td>0.0</td>\n",
       "      <td>0.526027</td>\n",
       "      <td>1.0</td>\n",
       "      <td>0.0</td>\n",
       "      <td>0.0</td>\n",
       "      <td>0.0</td>\n",
       "    </tr>\n",
       "    <tr>\n",
       "      <th>3</th>\n",
       "      <td>0.000000</td>\n",
       "      <td>0.590909</td>\n",
       "      <td>0.454545</td>\n",
       "      <td>0.0</td>\n",
       "      <td>0.871233</td>\n",
       "      <td>1.0</td>\n",
       "      <td>0.0</td>\n",
       "      <td>0.0</td>\n",
       "      <td>0.0</td>\n",
       "    </tr>\n",
       "    <tr>\n",
       "      <th>4</th>\n",
       "      <td>0.571429</td>\n",
       "      <td>0.000000</td>\n",
       "      <td>0.025253</td>\n",
       "      <td>0.0</td>\n",
       "      <td>0.493151</td>\n",
       "      <td>1.0</td>\n",
       "      <td>0.0</td>\n",
       "      <td>0.0</td>\n",
       "      <td>0.0</td>\n",
       "    </tr>\n",
       "    <tr>\n",
       "      <th>...</th>\n",
       "      <td>...</td>\n",
       "      <td>...</td>\n",
       "      <td>...</td>\n",
       "      <td>...</td>\n",
       "      <td>...</td>\n",
       "      <td>...</td>\n",
       "      <td>...</td>\n",
       "      <td>...</td>\n",
       "      <td>...</td>\n",
       "    </tr>\n",
       "    <tr>\n",
       "      <th>9655</th>\n",
       "      <td>0.428571</td>\n",
       "      <td>0.454545</td>\n",
       "      <td>0.055556</td>\n",
       "      <td>0.6</td>\n",
       "      <td>0.734247</td>\n",
       "      <td>0.0</td>\n",
       "      <td>0.0</td>\n",
       "      <td>1.0</td>\n",
       "      <td>0.0</td>\n",
       "    </tr>\n",
       "    <tr>\n",
       "      <th>9656</th>\n",
       "      <td>0.285714</td>\n",
       "      <td>0.000000</td>\n",
       "      <td>0.014141</td>\n",
       "      <td>0.4</td>\n",
       "      <td>1.000000</td>\n",
       "      <td>0.0</td>\n",
       "      <td>0.0</td>\n",
       "      <td>1.0</td>\n",
       "      <td>0.0</td>\n",
       "    </tr>\n",
       "    <tr>\n",
       "      <th>9657</th>\n",
       "      <td>0.142857</td>\n",
       "      <td>0.000000</td>\n",
       "      <td>0.154545</td>\n",
       "      <td>0.6</td>\n",
       "      <td>0.493151</td>\n",
       "      <td>0.0</td>\n",
       "      <td>0.0</td>\n",
       "      <td>1.0</td>\n",
       "      <td>0.0</td>\n",
       "    </tr>\n",
       "    <tr>\n",
       "      <th>9658</th>\n",
       "      <td>0.000000</td>\n",
       "      <td>0.636364</td>\n",
       "      <td>0.080808</td>\n",
       "      <td>0.0</td>\n",
       "      <td>0.819178</td>\n",
       "      <td>0.0</td>\n",
       "      <td>0.0</td>\n",
       "      <td>1.0</td>\n",
       "      <td>0.0</td>\n",
       "    </tr>\n",
       "    <tr>\n",
       "      <th>9659</th>\n",
       "      <td>0.000000</td>\n",
       "      <td>0.000000</td>\n",
       "      <td>0.096970</td>\n",
       "      <td>0.8</td>\n",
       "      <td>0.219178</td>\n",
       "      <td>0.0</td>\n",
       "      <td>0.0</td>\n",
       "      <td>1.0</td>\n",
       "      <td>0.0</td>\n",
       "    </tr>\n",
       "  </tbody>\n",
       "</table>\n",
       "<p>9660 rows × 9 columns</p>\n",
       "</div>"
      ],
      "text/plain": [
       "      minimum_nights  number_of_reviews  reviews_per_month  \\\n",
       "0           0.428571           0.090909           0.010101   \n",
       "1           0.285714           0.318182           0.131313   \n",
       "2           0.285714           0.000000           0.115152   \n",
       "3           0.000000           0.590909           0.454545   \n",
       "4           0.571429           0.000000           0.025253   \n",
       "...              ...                ...                ...   \n",
       "9655        0.428571           0.454545           0.055556   \n",
       "9656        0.285714           0.000000           0.014141   \n",
       "9657        0.142857           0.000000           0.154545   \n",
       "9658        0.000000           0.636364           0.080808   \n",
       "9659        0.000000           0.000000           0.096970   \n",
       "\n",
       "      calculated_host_listings_count  availability_365  Entire home/apt  \\\n",
       "0                                0.0          0.000000              1.0   \n",
       "1                                0.0          0.205479              1.0   \n",
       "2                                0.0          0.526027              1.0   \n",
       "3                                0.0          0.871233              1.0   \n",
       "4                                0.0          0.493151              1.0   \n",
       "...                              ...               ...              ...   \n",
       "9655                             0.6          0.734247              0.0   \n",
       "9656                             0.4          1.000000              0.0   \n",
       "9657                             0.6          0.493151              0.0   \n",
       "9658                             0.0          0.819178              0.0   \n",
       "9659                             0.8          0.219178              0.0   \n",
       "\n",
       "      Hotel room  Private room  Shared room  \n",
       "0            0.0           0.0          0.0  \n",
       "1            0.0           0.0          0.0  \n",
       "2            0.0           0.0          0.0  \n",
       "3            0.0           0.0          0.0  \n",
       "4            0.0           0.0          0.0  \n",
       "...          ...           ...          ...  \n",
       "9655         0.0           1.0          0.0  \n",
       "9656         0.0           1.0          0.0  \n",
       "9657         0.0           1.0          0.0  \n",
       "9658         0.0           1.0          0.0  \n",
       "9659         0.0           1.0          0.0  \n",
       "\n",
       "[9660 rows x 9 columns]"
      ]
     },
     "execution_count": 35,
     "metadata": {},
     "output_type": "execute_result"
    }
   ],
   "source": [
    "X_train_enc2"
   ]
  },
  {
   "cell_type": "code",
   "execution_count": 36,
   "metadata": {},
   "outputs": [
    {
     "data": {
      "text/plain": [
       "RandomForestRegressor(n_estimators=1000)"
      ]
     },
     "execution_count": 36,
     "metadata": {},
     "output_type": "execute_result"
    }
   ],
   "source": [
    "rfr2 = RandomForestRegressor(n_estimators=1000)\n",
    "rfr2.fit(X_train_enc2, y_train)"
   ]
  },
  {
   "cell_type": "code",
   "execution_count": 37,
   "metadata": {},
   "outputs": [
    {
     "name": "stdout",
     "output_type": "stream",
     "text": [
      "Previsão nos dados de treino:\n",
      "-----------------------------------------------------\n",
      "Mean Squared Error: 22571.111238718306\n",
      "R2 score: 0.6352429464765232\n",
      "\n",
      "Previsão nos dados de Validação:\n",
      "-----------------------------------------------------\n",
      "Mean Squared Error: 53291.5416387023\n",
      "R2 score: 0.12304203307532946\n"
     ]
    }
   ],
   "source": [
    "y_pred_train2 = rfr2.predict(X_train_enc2)\n",
    "y_pred_val2 = rfr2.predict(X_val_enc2)\n",
    "\n",
    "print(f'Previsão nos dados de treino:')\n",
    "print('-----------------------------------------------------')\n",
    "print(f'Mean Squared Error: {mean_squared_error(y_train, y_pred_train2)}')\n",
    "print(f'R2 score: {r2_score(y_train, y_pred_train2)}\\n')\n",
    "\n",
    "print(f'Previsão nos dados de Validação:')\n",
    "print('-----------------------------------------------------')\n",
    "print(f'Mean Squared Error: {mean_squared_error(y_val, y_pred_val2)}')\n",
    "print(f'R2 score: {r2_score(y_val, y_pred_val2)}')"
   ]
  },
  {
   "cell_type": "code",
   "execution_count": 38,
   "metadata": {},
   "outputs": [
    {
     "name": "stdout",
     "output_type": "stream",
     "text": [
      "Fitting 3 folds for each of 100 candidates, totalling 300 fits\n"
     ]
    },
    {
     "name": "stderr",
     "output_type": "stream",
     "text": [
      "[Parallel(n_jobs=-1)]: Using backend LokyBackend with 8 concurrent workers.\n",
      "[Parallel(n_jobs=-1)]: Done  25 tasks      | elapsed:  2.1min\n",
      "[Parallel(n_jobs=-1)]: Done 146 tasks      | elapsed:  8.8min\n",
      "[Parallel(n_jobs=-1)]: Done 300 out of 300 | elapsed: 17.8min finished\n"
     ]
    },
    {
     "data": {
      "text/plain": [
       "RandomizedSearchCV(cv=3, estimator=RandomForestRegressor(), n_iter=100,\n",
       "                   n_jobs=-1,\n",
       "                   param_distributions={'bootstrap': [True, False],\n",
       "                                        'max_depth': [10, 20, 30, 40, 50, 60,\n",
       "                                                      70, 80, 90, 100, 110,\n",
       "                                                      None],\n",
       "                                        'max_features': ['auto', 'sqrt'],\n",
       "                                        'min_samples_leaf': [1, 2, 4],\n",
       "                                        'min_samples_split': [2, 5, 10],\n",
       "                                        'n_estimators': [200, 400, 600, 800,\n",
       "                                                         1000, 1200, 1400, 1600,\n",
       "                                                         1800, 2000]},\n",
       "                   random_state=1, verbose=2)"
      ]
     },
     "execution_count": 38,
     "metadata": {},
     "output_type": "execute_result"
    }
   ],
   "source": [
    "# Use the random grid to search for best hyperparameters\n",
    "# First create the base model to tune\n",
    "rf = RandomForestRegressor()\n",
    "\n",
    "# Random search of parameters, using 3 fold cross validation, \n",
    "# search across 100 different combinations, and use all available cores\n",
    "rf_random2 = RandomizedSearchCV(estimator = rf, param_distributions = random_grid, n_iter = 100, cv = 3, verbose=2, random_state=seed, n_jobs = -1)\n",
    "\n",
    "# Fit the random search model\n",
    "rf_random2.fit(X_train_enc2, y_train)"
   ]
  },
  {
   "cell_type": "code",
   "execution_count": 39,
   "metadata": {},
   "outputs": [
    {
     "data": {
      "text/plain": [
       "{'n_estimators': 1400,\n",
       " 'min_samples_split': 5,\n",
       " 'min_samples_leaf': 2,\n",
       " 'max_features': 'sqrt',\n",
       " 'max_depth': 10,\n",
       " 'bootstrap': True}"
      ]
     },
     "execution_count": 39,
     "metadata": {},
     "output_type": "execute_result"
    }
   ],
   "source": [
    "rf_random2.best_params_"
   ]
  },
  {
   "cell_type": "code",
   "execution_count": 40,
   "metadata": {},
   "outputs": [
    {
     "data": {
      "text/plain": [
       "RandomForestRegressor(max_depth=10, max_features='sqrt', min_samples_leaf=2,\n",
       "                      min_samples_split=5, n_estimators=1400)"
      ]
     },
     "execution_count": 40,
     "metadata": {},
     "output_type": "execute_result"
    }
   ],
   "source": [
    "best_random2 = rf_random2.best_estimator_\n",
    "best_random2.fit(X_train_enc2, y_train)"
   ]
  },
  {
   "cell_type": "code",
   "execution_count": 41,
   "metadata": {},
   "outputs": [
    {
     "name": "stdout",
     "output_type": "stream",
     "text": [
      "Previsão nos dados de treino:\n",
      "-----------------------------------------------------\n",
      "Mean Squared Error: 41190.52018489631\n",
      "R2 score: 0.3343467843989397\n",
      "\n",
      "Previsão nos dados de Validação:\n",
      "-----------------------------------------------------\n",
      "Mean Squared Error: 47860.3052276313\n",
      "R2 score: 0.21241768058861177\n"
     ]
    }
   ],
   "source": [
    "y_pred_train2 = best_random2.predict(X_train_enc2)\n",
    "y_pred_val2 = best_random2.predict(X_val_enc2)\n",
    "\n",
    "print(f'Previsão nos dados de treino:')\n",
    "print('-----------------------------------------------------')\n",
    "print(f'Mean Squared Error: {mean_squared_error(y_train, y_pred_train2)}')\n",
    "print(f'R2 score: {r2_score(y_train, y_pred_train2)}\\n')\n",
    "\n",
    "print(f'Previsão nos dados de Validação:')\n",
    "print('-----------------------------------------------------')\n",
    "print(f'Mean Squared Error: {mean_squared_error(y_val, y_pred_val2)}')\n",
    "print(f'R2 score: {r2_score(y_val, y_pred_val2)}')"
   ]
  },
  {
   "cell_type": "code",
   "execution_count": 42,
   "metadata": {},
   "outputs": [
    {
     "data": {
      "text/plain": [
       "<AxesSubplot:xlabel='price'>"
      ]
     },
     "execution_count": 42,
     "metadata": {},
     "output_type": "execute_result"
    },
    {
     "data": {
      "image/png": "[encoded data removed]",
      "text/plain": [
       "<Figure size 432x288 with 1 Axes>"
      ]
     },
     "metadata": {
      "needs_background": "light"
     },
     "output_type": "display_data"
    }
   ],
   "source": [
    "sns.regplot(x=y_val, y=y_pred_val2)"
   ]
  },
  {
   "cell_type": "markdown",
   "metadata": {},
   "source": [
    "### 3º Tunning do modelo selecionado"
   ]
  }
 ],
 "metadata": {
  "kernelspec": {
   "display_name": "Python 3",
   "language": "python",
   "name": "python3"
  },
  "language_info": {
   "codemirror_mode": {
    "name": "ipython",
    "version": 3
   },
   "file_extension": ".py",
   "mimetype": "text/x-python",
   "name": "python",
   "nbconvert_exporter": "python",
   "pygments_lexer": "ipython3",
   "version": "3.7.7"
  }
 },
 "nbformat": 4,
 "nbformat_minor": 4
}
